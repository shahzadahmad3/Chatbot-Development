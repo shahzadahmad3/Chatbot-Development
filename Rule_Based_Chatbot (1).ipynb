{
  "cells": [
    {
      "cell_type": "code",
      "execution_count": null,
      "metadata": {
        "id": "NpSdFXriWHuq"
      },
      "outputs": [],
      "source": [
        "import re\n",
        "import random"
      ]
    },
    {
      "cell_type": "code",
      "execution_count": null,
      "metadata": {
        "id": "I0Ji67S2WW-I"
      },
      "outputs": [],
      "source": [
        "# --- Greeting Message ---\n",
        "greeting_message = \"Hello! I'm a simple chatbot.\"\n",
        "print(greeting_message)\n",
        "\n",
        "# --- Response Lists ---\n",
        "negative_responses = [\n",
        "    \"I'm sorry, I didn't understand that.\",\n",
        "    \"Could you please rephrase your query?\",\n",
        "    \"I'm not sure what you mean.\"\n",
        "]\n",
        "\n",
        "positive_responses = [\n",
        "    \"That's great!\",\n",
        "    \"I'm glad to hear that.\",\n",
        "    \"Sounds good!\"\n",
        "]\n",
        "\n",
        "neutral_responses = [\n",
        "    \"Okay.\",\n",
        "    \"I see.\",\n",
        "    \"Alright.\"\n",
        "]"
      ]
    },
    {
      "cell_type": "code",
      "execution_count": null,
      "metadata": {
        "id": "I6kKN4AcY8A_"
      },
      "outputs": [],
      "source": [
        "class RuleBasedChatbot:\n",
        "    \"\"\"\n",
        "    A simple rule-based chatbot that greets the user by name\n",
        "    and responds to predefined patterns.\n",
        "    \"\"\"\n",
        "    def __init__(self, name):\n",
        "        self.name=name\n",
        "        self.rules = {\n",
        "            r\"hello|hi|hey\":[\n",
        "                f\"Hi {self.name}! How can I assist you?\"\n",
        "                f\"Hello {self.name}! How may I can help You?\"\n",
        "                f\"Hey {self.name}! How can I assist you today?\"\n",
        "            ],\n",
        "                        r\"how are you\": [\n",
        "                \"I'm doing well, thank you.\",\n",
        "                \"I'm great, thanks for asking.\",\n",
        "                \"I'm feeling fantastic!\"\n",
        "            ],\n",
        "            r\"bye|goodbye\": [\n",
        "                \"Goodbye, {self.name}! Have a great day.\",\n",
        "                \"See you later, {self.name}!\",\n",
        "                \"Farewell, {self.name}!\"\n",
        "            ],\n",
        "            r\"(.*)\": [  # Default response for unmatched patterns\n",
        "                \"I'm sorry, I didn't understand that.\",\n",
        "                \"Could you please rephrase your query?\",\n",
        "                \"I'm not sure what you mean.\"\n",
        "            ]\n",
        "        }\n",
        "    def respond(self,user_input):\n",
        "              \"\"\"Matches the user input to a rule and returns a response.\"\"\"\n",
        "              for pattern, responses in self.rules.items():\n",
        "                  match = re.search(pattern, user_input, re.IGNORECASE)\n",
        "                  if match:\n",
        "                      response = random.choice(responses)  # Choose a random response\n",
        "                      return response\n",
        "              return random.choice(self.rules[r\"(.*)\"])  # Default response\n"
      ]
    },
    {
      "cell_type": "code",
      "execution_count": null,
      "metadata": {
        "colab": {
          "background_save": true,
          "base_uri": "https://localhost:8080/"
        },
        "id": "gYIfdeveaWXr",
        "outputId": "04bb9914-1889-4301-e870-b3e7ec341988"
      },
      "outputs": [
        {
          "name": "stdout",
          "output_type": "stream",
          "text": [
            "Hi Shahzad! How can I assist you?Hello Shahzad! How may I can help You?Hello Shahzad! How can I assist you today?\n",
            "Chatbot: Hi Shahzad! How can I assist you?Hello Shahzad! How may I can help You?Hello Shahzad! How can I assist you today?\n"
          ]
        }
      ],
      "source": [
        "#Chat\n",
        "name = input(\"What is your name? \")  # Get the user's name\n",
        "chatbot = RuleBasedChatbot(name)  # Create an instance of the chatbot\n",
        "print(chatbot.respond(\"Hello\"))\n",
        "while True:\n",
        "  user_input=input(\"You:  \")\n",
        "  if user_input.lower() in [\"bye\",\"goodbye\"]:\n",
        "    print(\"Chatbot: Goodbye! Have a great day.\")\n",
        "    break\n",
        "  else:\n",
        "    print(\"Chatbot:\",chatbot.respond(user_input))"
      ]
    }
  ],
  "metadata": {
    "colab": {
      "provenance": []
    },
    "kernelspec": {
      "display_name": "Python 3",
      "name": "python3"
    },
    "language_info": {
      "name": "python"
    }
  },
  "nbformat": 4,
  "nbformat_minor": 0
}